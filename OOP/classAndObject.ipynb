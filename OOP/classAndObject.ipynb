{
 "cells": [
  {
   "cell_type": "markdown",
   "metadata": {},
   "source": [
    "# OOP\n"
   ]
  },
  {
   "cell_type": "code",
   "execution_count": 6,
   "metadata": {},
   "outputs": [
    {
     "name": "stdout",
     "output_type": "stream",
     "text": [
      "<class 'types.GenericAlias'>\n"
     ]
    }
   ],
   "source": [
    "l = list[1,2,4]\n",
    "print(type(l))"
   ]
  },
  {
   "cell_type": "code",
   "execution_count": 5,
   "metadata": {},
   "outputs": [
    {
     "data": {
      "text/plain": [
       "str"
      ]
     },
     "execution_count": 5,
     "metadata": {},
     "output_type": "execute_result"
    }
   ],
   "source": [
    "s = 'hello'\n",
    "type(s)"
   ]
  },
  {
   "cell_type": "code",
   "execution_count": null,
   "metadata": {},
   "outputs": [],
   "source": [
    "#syntax to create an object\n",
    "# object = classname()"
   ]
  },
  {
   "cell_type": "code",
   "execution_count": 1,
   "metadata": {},
   "outputs": [],
   "source": [
    "class Atm:\n",
    "\n",
    "    # constructor \n",
    "    '''\n",
    "    - All variables are created inside constructor\n",
    "    - Constructor is a special function\n",
    "        - It has a superpower --> It will automatically-execute unlike other functions\n",
    "    '''\n",
    "    def __init__(self):\n",
    "        self.pin = ''\n",
    "        self.balance = 0\n",
    "        self.amount = 0\n",
    "        # print('Auto execute')\n",
    "        self.menu()\n",
    "        \n",
    "\n",
    "    def menu(self):\n",
    "        user_input = input(\"\"\"              \n",
    "              How can I help you?\n",
    "              1 : Press 1 to create PIN?\n",
    "              2 : Press 2 to change PIN.\n",
    "              3 : Press 3 to check balance\n",
    "              4 : Press 4 to withdraw\n",
    "              5 : Anything else to exit\n",
    "              \"\"\")\n",
    "        if user_input =='1':\n",
    "            self.create_pin()\n",
    "            # Create PIN\n",
    "        elif user_input == '2':  \n",
    "            self.change_pin()\n",
    "            #change pin\n",
    "        elif user_input == '3':\n",
    "            self.check_balance()\n",
    "            #check balance\n",
    "        elif user_input == '4':\n",
    "            self.withdrawl()\n",
    "        # withdraw\n",
    "        else:\n",
    "            exit()\n",
    "\n",
    "    def create_pin(self):\n",
    "        user_pin = input('Enter your PIN')\n",
    "        self.pin = user_pin\n",
    "\n",
    "        user_balance = int(input('Enter balance'))\n",
    "        self.balance = user_balance\n",
    "\n",
    "        print(\"Code created successfully!\")\n",
    "        self.menu()\n",
    "\n",
    "    def change_pin(self):\n",
    "        old_pin = input(\"Enter old PIN\")\n",
    "        if old_pin == self.pin:\n",
    "            new_pin = input(\"Enter new PIN\")\n",
    "            self.pin = new_pin\n",
    "            print(\"PIN changed successful\")\n",
    "            self.menu()\n",
    "        else:\n",
    "            print(\"Can't change pin\")\n",
    "            self.menu()\n",
    "\n",
    "    def check_balance(self):\n",
    "        user_pin = input(\"Please enter your PIN\")\n",
    "        if user_pin == self.pin:\n",
    "            print(f'The balance is {self.balance}')\n",
    "        else:\n",
    "            print(\"Wrong PIN\")\n",
    "        self.menu()\n",
    "        \n",
    "    def withdrawl(self):\n",
    "        user_pin = input(\"Enter your PIN\")\n",
    "        if user_pin == self.pin:\n",
    "            with_drawl = int(input(\"How much money would like to withdrawl\"))\n",
    "            if with_drawl >0:\n",
    "                # balance = input(\"Blance you would like to withdraw\")\n",
    "                new_balance = self.balance - with_drawl\n",
    "                print(f\"Total balance is {new_balance}\")\n",
    "                self.balance = new_balance\n",
    "            else:\n",
    "                print(\"Your balance is 0\")\n",
    "        else:\n",
    "            print(\"Incorrect credentials\")\n",
    "        self.menu()"
   ]
  },
  {
   "cell_type": "code",
   "execution_count": 2,
   "metadata": {},
   "outputs": [
    {
     "name": "stdout",
     "output_type": "stream",
     "text": [
      "Code created successfully!\n",
      "Total balance is 40\n",
      "Total balance is 10\n",
      "Total balance is 0\n",
      "Your balance is 0\n",
      "Total balance is -50\n"
     ]
    },
    {
     "ename": "",
     "evalue": "",
     "output_type": "error",
     "traceback": [
      "\u001b[1;31mThe Kernel crashed while executing code in the current cell or a previous cell. \n",
      "\u001b[1;31mPlease review the code in the cell(s) to identify a possible cause of the failure. \n",
      "\u001b[1;31mClick <a href='https://aka.ms/vscodeJupyterKernelCrash'>here</a> for more info. \n",
      "\u001b[1;31mView Jupyter <a href='command:jupyter.viewOutput'>log</a> for further details."
     ]
    }
   ],
   "source": [
    "obj = Atm()"
   ]
  },
  {
   "cell_type": "code",
   "execution_count": 10,
   "metadata": {},
   "outputs": [
    {
     "data": {
      "text/plain": [
       "__main__.Atm"
      ]
     },
     "execution_count": 10,
     "metadata": {},
     "output_type": "execute_result"
    }
   ],
   "source": [
    "type(obj)"
   ]
  },
  {
   "cell_type": "code",
   "execution_count": 15,
   "metadata": {},
   "outputs": [],
   "source": [
    "class Fraction:\n",
    "    def __init__(self,x,y):\n",
    "        self.num = x\n",
    "        self.den = y\n",
    "\n",
    "    def __str__(self):\n",
    "        return '{}/{}'.format(self.num, self.dum)\n",
    "\n",
    "    def __add__(self, other):\n",
    "        new_num = (self.num * other.den) + (other.num*self.den)\n",
    "        new_dum = self.den * other.den\n",
    "\n",
    "        return '{}/{}'.format(new_num, new_dum)\n",
    "\n",
    "    "
   ]
  },
  {
   "cell_type": "code",
   "execution_count": 16,
   "metadata": {},
   "outputs": [
    {
     "name": "stdout",
     "output_type": "stream",
     "text": [
      "125/50\n"
     ]
    }
   ],
   "source": [
    "frac1 = Fraction(10,5)\n",
    "frac2 = Fraction(5,10)\n",
    "print(frac1 + frac2)"
   ]
  },
  {
   "cell_type": "markdown",
   "metadata": {},
   "source": [
    "# Encapsulation"
   ]
  },
  {
   "cell_type": "code",
   "execution_count": 56,
   "metadata": {},
   "outputs": [],
   "source": [
    "class Point:\n",
    "    def __init__(self,x_coordinate, y_coordinate):\n",
    "        self.x_coordinate = x_coordinate\n",
    "        self.y_coordinate = y_coordinate\n",
    "\n",
    "    def __str__ (self):\n",
    "        return '< {}, {} >'.format(self.x_coordinate, self.y_coordinate)\n",
    "    \n",
    "    def eucliden_distance(self, other):\n",
    "        return ((self.x_coordinate - other.y_coordinate)**2 + (self.y_coordinate - other.y_coordinate)**2)**0.5\n",
    "    \n",
    "    def distance_from_origin(self):\n",
    "        return self.eucliden_distance(Point(0,0))\n",
    "    \n",
    "class LineClass:\n",
    "    def __init__(self, A,B,C):\n",
    "        self.A = A\n",
    "        self.B = B\n",
    "        self.C = C\n",
    "    \n",
    "    def __str__(self):\n",
    "        return '{}x + {}y + {} = 0'.format(self.A, self.B, self.C)\n",
    "    \n",
    "    def point_on_line(line, point):\n",
    "        if line.A*point.x_coordinate + line.B*point.y_coordinate + line.C == 0:\n",
    "            return 'Lies on the line'\n",
    "        else:\n",
    "            return 'Does not lie on the line'\n",
    "        \n",
    "    def shortest_distance(line, point):\n",
    "        return abs(line.A*point.x_coordinate + line.B*point.y_coordinate + line.C)/(line.A**2 + line.B**2)"
   ]
  },
  {
   "cell_type": "code",
   "execution_count": 57,
   "metadata": {},
   "outputs": [],
   "source": [
    "p1 = Point(1,10)\n",
    "l1 = LineClass(1,1,-2)"
   ]
  },
  {
   "cell_type": "code",
   "execution_count": 58,
   "metadata": {},
   "outputs": [
    {
     "data": {
      "text/plain": [
       "'Does not lie on the line'"
      ]
     },
     "execution_count": 58,
     "metadata": {},
     "output_type": "execute_result"
    }
   ],
   "source": [
    "l1.point_on_line(p1)"
   ]
  },
  {
   "cell_type": "code",
   "execution_count": 59,
   "metadata": {},
   "outputs": [
    {
     "name": "stdout",
     "output_type": "stream",
     "text": [
      "4.5\n"
     ]
    }
   ],
   "source": [
    "print(l1.shortest_distance(p1))"
   ]
  },
  {
   "cell_type": "code",
   "execution_count": 64,
   "metadata": {},
   "outputs": [],
   "source": [
    "class Person:\n",
    "    def __init__(self, name_input, country_input):\n",
    "        self.name = name_input\n",
    "        self.country = country_input\n",
    "\n",
    "    def greet(self):\n",
    "        if self.country == 'US':\n",
    "            print('Hello')\n",
    "        else:\n",
    "            print('Hola', self.name)"
   ]
  },
  {
   "cell_type": "code",
   "execution_count": 67,
   "metadata": {},
   "outputs": [
    {
     "name": "stdout",
     "output_type": "stream",
     "text": [
      "Hola Mike\n",
      "None\n"
     ]
    }
   ],
   "source": [
    "p = Person('Mike','Spain')\n",
    "print(p.greet())"
   ]
  },
  {
   "cell_type": "markdown",
   "metadata": {},
   "source": [
    "#  Pass by reference"
   ]
  },
  {
   "cell_type": "code",
   "execution_count": 1,
   "metadata": {},
   "outputs": [
    {
     "name": "stdout",
     "output_type": "stream",
     "text": [
      "Hi, my name is Batman and I am a Male\n",
      "Batman\n",
      "Male\n"
     ]
    }
   ],
   "source": [
    "class Person:\n",
    "    def __init__(self, name, gender):\n",
    "        self.name = name\n",
    "        self.gender = gender\n",
    "\n",
    "def greet(person):\n",
    "    print('Hi, my name is', person.name, 'and I am a', person.gender)\n",
    "    p1 = Person('Batman', 'Male')\n",
    "    return p1\n",
    "\n",
    "p = Person('Batman', 'Male')\n",
    "x = greet(p)\n",
    "print(x.name)\n",
    "print(x.gender)"
   ]
  },
  {
   "cell_type": "code",
   "execution_count": 77,
   "metadata": {},
   "outputs": [
    {
     "name": "stdout",
     "output_type": "stream",
     "text": [
      "Hi, my name is Batman and I am a Bat\n",
      "None\n"
     ]
    }
   ],
   "source": [
    "p = Person('Batman', 'Bat')\n",
    "\n",
    "print(greet(p))"
   ]
  },
  {
   "cell_type": "markdown",
   "metadata": {},
   "source": [
    "## ID of an object"
   ]
  },
  {
   "cell_type": "code",
   "execution_count": 2,
   "metadata": {},
   "outputs": [
    {
     "name": "stdout",
     "output_type": "stream",
     "text": [
      "Hi, my name is Batman and I am a Male\n",
      "1842927520752\n",
      "1842927520752\n",
      "Batman\n",
      "Male\n"
     ]
    }
   ],
   "source": [
    "class Person:\n",
    "    def __init__(self, name, gender):\n",
    "        self.name = name\n",
    "        self.gender = gender\n",
    "\n",
    "def greet(person):\n",
    "    print('Hi, my name is', person.name, 'and I am a', person.gender)\n",
    "    print(id(person))\n",
    "    p1 = Person('Batman', 'Male')\n",
    "    return p1\n",
    "\n",
    "p = Person('Batman', 'Male')\n",
    "x = greet(p)\n",
    "print(id(p))\n",
    "print(x.name)\n",
    "print(x.gender)"
   ]
  },
  {
   "cell_type": "markdown",
   "metadata": {},
   "source": [
    "# Encapsulation"
   ]
  },
  {
   "cell_type": "code",
   "execution_count": 4,
   "metadata": {},
   "outputs": [],
   "source": [
    "class Atm:\n",
    "\n",
    "    # constructor \n",
    "    '''\n",
    "    - All variables are created inside constructor\n",
    "    - Constructor is a special function\n",
    "        - It has a superpower --> It will automatically-execute unlike other functions\n",
    "    '''\n",
    "    def __init__(self):\n",
    "        self.__pin = ''\n",
    "        self.balance = 0\n",
    "        self.amount = 0\n",
    "        # print('Auto execute')\n",
    "        self.menu()\n",
    "        \n",
    "\n",
    "    def menu(self):\n",
    "        user_input = input(\"\"\"              \n",
    "              How can I help you?\n",
    "              1 : Press 1 to create PIN?\n",
    "              2 : Press 2 to change PIN.\n",
    "              3 : Press 3 to check balance\n",
    "              4 : Press 4 to withdraw\n",
    "              5 : Anything else to exit\n",
    "              \"\"\")\n",
    "        if user_input =='1':\n",
    "            self.create_pin()\n",
    "            # Create PIN\n",
    "        elif user_input == '2':  \n",
    "            self.change_pin()\n",
    "            #change pin\n",
    "        elif user_input == '3':\n",
    "            self.check_balance()\n",
    "            #check balance\n",
    "        elif user_input == '4':\n",
    "            self.withdrawl()\n",
    "        # withdraw\n",
    "        else:\n",
    "            exit()\n",
    "\n",
    "    def create_pin(self):\n",
    "        user_pin = input('Enter your PIN')\n",
    "        self.pin = user_pin\n",
    "\n",
    "        user_balance = int(input('Enter balance'))\n",
    "        self.balance = user_balance\n",
    "\n",
    "        print(\"Code created successfully!\")\n",
    "        self.menu()\n",
    "\n",
    "    def _change_pin(self):\n",
    "        old_pin = input(\"Enter old PIN\")\n",
    "        if old_pin == self.pin:\n",
    "            new_pin = input(\"Enter new PIN\")\n",
    "            self.pin = new_pin\n",
    "            print(\"PIN changed successful\")\n",
    "            self.menu()\n",
    "        else:\n",
    "            print(\"Can't change pin\")\n",
    "            self.menu()\n",
    "\n",
    "    def check_balance(self):\n",
    "        user_pin = input(\"Please enter your PIN\")\n",
    "        if user_pin == self.pin:\n",
    "            print(f'The balance is {self.balance}')\n",
    "        else:\n",
    "            print(\"Wrong PIN\")\n",
    "        self.menu()\n",
    "        \n",
    "    def withdrawl(self):\n",
    "        user_pin = input(\"Enter your PIN\")\n",
    "        if user_pin == self.pin:\n",
    "            with_drawl = int(input(\"How much money would like to withdrawl\"))\n",
    "            if with_drawl >0:\n",
    "                # balance = input(\"Blance you would like to withdraw\")\n",
    "                new_balance = self.balance - with_drawl\n",
    "                print(f\"Total balance is {new_balance}\")\n",
    "                self.balance = new_balance\n",
    "            else:\n",
    "                print(\"Your balance is 0\")\n",
    "        else:\n",
    "            print(\"Incorrect credentials\")\n",
    "        self.menu()"
   ]
  },
  {
   "cell_type": "code",
   "execution_count": 7,
   "metadata": {},
   "outputs": [
    {
     "ename": "",
     "evalue": "",
     "output_type": "error",
     "traceback": [
      "\u001b[1;31mThe Kernel crashed while executing code in the current cell or a previous cell. \n",
      "\u001b[1;31mPlease review the code in the cell(s) to identify a possible cause of the failure. \n",
      "\u001b[1;31mClick <a href='https://aka.ms/vscodeJupyterKernelCrash'>here</a> for more info. \n",
      "\u001b[1;31mView Jupyter <a href='command:jupyter.viewOutput'>log</a> for further details."
     ]
    }
   ],
   "source": [
    "obj = Atm()"
   ]
  },
  {
   "cell_type": "code",
   "execution_count": 6,
   "metadata": {},
   "outputs": [],
   "source": [
    "obj._change_pin = '123'"
   ]
  },
  {
   "cell_type": "markdown",
   "metadata": {},
   "source": [
    "## List of objects"
   ]
  },
  {
   "cell_type": "code",
   "execution_count": 1,
   "metadata": {},
   "outputs": [],
   "source": [
    "class Person:\n",
    "\n",
    "    def __init__(self, name, gender):\n",
    "        self.name = name\n",
    "        self.gender = gender\n",
    "\n",
    "    def __str__(self):\n",
    "        return self.name, self.gender\n",
    "    \n",
    "p = Person('Batman', 'Male')"
   ]
  },
  {
   "cell_type": "code",
   "execution_count": 2,
   "metadata": {},
   "outputs": [
    {
     "ename": "TypeError",
     "evalue": "__str__ returned non-string (type tuple)",
     "output_type": "error",
     "traceback": [
      "\u001b[1;31m---------------------------------------------------------------------------\u001b[0m",
      "\u001b[1;31mTypeError\u001b[0m                                 Traceback (most recent call last)",
      "Cell \u001b[1;32mIn[2], line 1\u001b[0m\n\u001b[1;32m----> 1\u001b[0m \u001b[38;5;28mprint\u001b[39m(p)\n",
      "\u001b[1;31mTypeError\u001b[0m: __str__ returned non-string (type tuple)"
     ]
    }
   ],
   "source": [
    "print(p)"
   ]
  },
  {
   "cell_type": "markdown",
   "metadata": {},
   "source": [
    "# Inheritance and polymorphism "
   ]
  },
  {
   "cell_type": "code",
   "execution_count": 1,
   "metadata": {},
   "outputs": [],
   "source": [
    "class Customer:\n",
    "\n",
    "    def __init__(self, name, gender, address):\n",
    "        self.name = name\n",
    "        self.gender = gender\n",
    "        self.address = address\n",
    "\n",
    "    def print_address(self):\n",
    "        print(self.address.city, self.address.pin, self.address.state)\n",
    "\n",
    "class Address:\n",
    "\n",
    "    def __init__(self, city, pin, state):\n",
    "        self.city = city\n",
    "        self.pin = pin\n",
    "        self.state = state\n",
    "\n",
    "        pass\n",
    "add1 = Address('Gotham', 11111, 'NY')\n",
    "cust = Customer('Batman', 'Male',add1)"
   ]
  },
  {
   "cell_type": "code",
   "execution_count": 2,
   "metadata": {},
   "outputs": [
    {
     "name": "stdout",
     "output_type": "stream",
     "text": [
      "Gotham 11111 NY\n"
     ]
    }
   ],
   "source": [
    "cust.print_address()"
   ]
  },
  {
   "cell_type": "markdown",
   "metadata": {},
   "source": [
    "# Aggregatiion\n"
   ]
  },
  {
   "cell_type": "code",
   "execution_count": 2,
   "metadata": {},
   "outputs": [
    {
     "name": "stdout",
     "output_type": "stream",
     "text": [
      "Gotham 22122 New York\n",
      "Gotham 22122 New York\n"
     ]
    }
   ],
   "source": [
    "class Customer:\n",
    "\n",
    "    def __init__(self, name, gender, address):\n",
    "        self.name = name \n",
    "        self.gender = gender\n",
    "        self.address = address \n",
    "\n",
    "    def print_address(self):\n",
    "        print(self.address.get_city(), self.address.pin, self.address.state)\n",
    "\n",
    "    def edit_profile(self, new_name, new_city, new_pin, new_state):\n",
    "         self.new_name = new_name\n",
    "         self.new_city = new_city\n",
    "         self.new_pin = new_pin\n",
    "         self.new_state = new_state\n",
    "\n",
    "class Address:\n",
    "\n",
    "    def __init__(self, city, pin, state):\n",
    "        self.__city = city\n",
    "        self.pin = pin \n",
    "        self.state = state \n",
    "\n",
    "    def get_city(self):\n",
    "        return self.__city\n",
    "    \n",
    "    def edit_address(self, new_city, new_pin, new_state):\n",
    "        self.__City = new_city\n",
    "        self.pin = new_pin\n",
    "        self.state = new_state\n",
    "    \n",
    "Add1 = Address('Gotham', 22122, 'New York')\n",
    "cust = Customer('Batman', 'Male', Add1)\n",
    "\n",
    "cust.print_address()\n",
    "\n",
    "cust.edit_profile('Superman', 'Krytpo', 11111, 'Unknown')\n",
    "cust.print_address()"
   ]
  },
  {
   "cell_type": "markdown",
   "metadata": {},
   "source": [
    "# Inheritance"
   ]
  },
  {
   "cell_type": "code",
   "execution_count": 11,
   "metadata": {},
   "outputs": [
    {
     "name": "stdout",
     "output_type": "stream",
     "text": [
      "name\n",
      "login\n",
      "None\n",
      "Enrolled into course\n",
      "None\n"
     ]
    }
   ],
   "source": [
    "#parent\n",
    "class User:\n",
    "    def __init__(self):\n",
    "        self.name = 'name'\n",
    "\n",
    "    def login(self):\n",
    "        print('login')\n",
    "\n",
    "#child\n",
    "class Student(User):\n",
    "    # def __init__(self):\n",
    "    #     self.rollno = 100\n",
    "\n",
    "    def enroll(self):\n",
    "        print(\"Enrolled into course\")\n",
    "\n",
    "u = User()\n",
    "s = Student()\n",
    "\n",
    "print(s.name)\n",
    "# print(s.rollno)\n",
    "print(s.login())\n",
    "print(s.enroll())"
   ]
  },
  {
   "cell_type": "code",
   "execution_count": null,
   "metadata": {},
   "outputs": [],
   "source": []
  }
 ],
 "metadata": {
  "kernelspec": {
   "display_name": "base",
   "language": "python",
   "name": "python3"
  },
  "language_info": {
   "codemirror_mode": {
    "name": "ipython",
    "version": 3
   },
   "file_extension": ".py",
   "mimetype": "text/x-python",
   "name": "python",
   "nbconvert_exporter": "python",
   "pygments_lexer": "ipython3",
   "version": "3.12.4"
  }
 },
 "nbformat": 4,
 "nbformat_minor": 2
}

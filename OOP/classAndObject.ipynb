{
 "cells": [
  {
   "cell_type": "markdown",
   "metadata": {},
   "source": [
    "# OOP\n"
   ]
  },
  {
   "cell_type": "code",
   "execution_count": 6,
   "metadata": {},
   "outputs": [
    {
     "name": "stdout",
     "output_type": "stream",
     "text": [
      "<class 'types.GenericAlias'>\n"
     ]
    }
   ],
   "source": [
    "l = list[1,2,4]\n",
    "print(type(l))"
   ]
  },
  {
   "cell_type": "code",
   "execution_count": 5,
   "metadata": {},
   "outputs": [
    {
     "data": {
      "text/plain": [
       "str"
      ]
     },
     "execution_count": 5,
     "metadata": {},
     "output_type": "execute_result"
    }
   ],
   "source": [
    "s = 'hello'\n",
    "type(s)"
   ]
  },
  {
   "cell_type": "code",
   "execution_count": null,
   "metadata": {},
   "outputs": [],
   "source": [
    "#syntax to create an object\n",
    "# object = classname()"
   ]
  },
  {
   "cell_type": "code",
   "execution_count": 1,
   "metadata": {},
   "outputs": [],
   "source": [
    "class Atm:\n",
    "\n",
    "    # constructor \n",
    "    '''\n",
    "    - All variables are created inside constructor\n",
    "    - Constructor is a special function\n",
    "        - It has a superpower --> It will automatically-execute unlike other functions\n",
    "    '''\n",
    "    def __init__(self):\n",
    "        self.pin = ''\n",
    "        self.balance = 0\n",
    "        self.amount = 0\n",
    "        # print('Auto execute')\n",
    "        self.menu()\n",
    "        \n",
    "\n",
    "    def menu(self):\n",
    "        user_input = input(\"\"\"              \n",
    "              How can I help you?\n",
    "              1 : Press 1 to create PIN?\n",
    "              2 : Press 2 to change PIN.\n",
    "              3 : Press 3 to check balance\n",
    "              4 : Press 4 to withdraw\n",
    "              5 : Anything else to exit\n",
    "              \"\"\")\n",
    "        if user_input =='1':\n",
    "            self.create_pin()\n",
    "            # Create PIN\n",
    "        elif user_input == '2':  \n",
    "            self.change_pin()\n",
    "            #change pin\n",
    "        elif user_input == '3':\n",
    "            self.check_balance()\n",
    "            #check balance\n",
    "        elif user_input == '4':\n",
    "            self.withdrawl()\n",
    "        # withdraw\n",
    "        else:\n",
    "            exit()\n",
    "\n",
    "    def create_pin(self):\n",
    "        user_pin = input('Enter your PIN')\n",
    "        self.pin = user_pin\n",
    "\n",
    "        user_balance = int(input('Enter balance'))\n",
    "        self.balance = user_balance\n",
    "\n",
    "        print(\"Code created successfully!\")\n",
    "        self.menu()\n",
    "\n",
    "    def change_pin(self):\n",
    "        old_pin = input(\"Enter old PIN\")\n",
    "        if old_pin == self.pin:\n",
    "            new_pin = input(\"Enter new PIN\")\n",
    "            self.pin = new_pin\n",
    "            print(\"PIN changed successful\")\n",
    "            self.menu()\n",
    "        else:\n",
    "            print(\"Can't change pin\")\n",
    "            self.menu()\n",
    "\n",
    "    def check_balance(self):\n",
    "        user_pin = input(\"Please enter your PIN\")\n",
    "        if user_pin == self.pin:\n",
    "            print(f'The balance is {self.balance}')\n",
    "        else:\n",
    "            print(\"Wrong PIN\")\n",
    "        self.menu()\n",
    "        \n",
    "    def withdrawl(self):\n",
    "        user_pin = input(\"Enter your PIN\")\n",
    "        if user_pin == self.pin:\n",
    "            with_drawl = int(input(\"How much money would like to withdrawl\"))\n",
    "            if with_drawl >0:\n",
    "                # balance = input(\"Blance you would like to withdraw\")\n",
    "                new_balance = self.balance - with_drawl\n",
    "                print(f\"Total balance is {new_balance}\")\n",
    "                self.balance = new_balance\n",
    "            else:\n",
    "                print(\"Your balance is 0\")\n",
    "        else:\n",
    "            print(\"Incorrect credentials\")\n",
    "        self.menu()"
   ]
  },
  {
   "cell_type": "code",
   "execution_count": 2,
   "metadata": {},
   "outputs": [
    {
     "name": "stdout",
     "output_type": "stream",
     "text": [
      "Code created successfully!\n",
      "Total balance is 40\n",
      "Total balance is 10\n",
      "Total balance is 0\n",
      "Your balance is 0\n",
      "Total balance is -50\n"
     ]
    },
    {
     "ename": "",
     "evalue": "",
     "output_type": "error",
     "traceback": [
      "\u001b[1;31mThe Kernel crashed while executing code in the current cell or a previous cell. \n",
      "\u001b[1;31mPlease review the code in the cell(s) to identify a possible cause of the failure. \n",
      "\u001b[1;31mClick <a href='https://aka.ms/vscodeJupyterKernelCrash'>here</a> for more info. \n",
      "\u001b[1;31mView Jupyter <a href='command:jupyter.viewOutput'>log</a> for further details."
     ]
    }
   ],
   "source": [
    "obj = Atm()"
   ]
  },
  {
   "cell_type": "code",
   "execution_count": 10,
   "metadata": {},
   "outputs": [
    {
     "data": {
      "text/plain": [
       "__main__.Atm"
      ]
     },
     "execution_count": 10,
     "metadata": {},
     "output_type": "execute_result"
    }
   ],
   "source": [
    "type(obj)"
   ]
  },
  {
   "cell_type": "code",
   "execution_count": 15,
   "metadata": {},
   "outputs": [],
   "source": [
    "class Fraction:\n",
    "    def __init__(self,x,y):\n",
    "        self.num = x\n",
    "        self.den = y\n",
    "\n",
    "    def __str__(self):\n",
    "        return '{}/{}'.format(self.num, self.dum)\n",
    "\n",
    "    def __add__(self, other):\n",
    "        new_num = (self.num * other.den) + (other.num*self.den)\n",
    "        new_dum = self.den * other.den\n",
    "\n",
    "        return '{}/{}'.format(new_num, new_dum)\n",
    "\n",
    "    "
   ]
  },
  {
   "cell_type": "code",
   "execution_count": 16,
   "metadata": {},
   "outputs": [
    {
     "name": "stdout",
     "output_type": "stream",
     "text": [
      "125/50\n"
     ]
    }
   ],
   "source": [
    "frac1 = Fraction(10,5)\n",
    "frac2 = Fraction(5,10)\n",
    "print(frac1 + frac2)"
   ]
  },
  {
   "cell_type": "code",
   "execution_count": null,
   "metadata": {},
   "outputs": [],
   "source": []
  }
 ],
 "metadata": {
  "kernelspec": {
   "display_name": "base",
   "language": "python",
   "name": "python3"
  },
  "language_info": {
   "codemirror_mode": {
    "name": "ipython",
    "version": 3
   },
   "file_extension": ".py",
   "mimetype": "text/x-python",
   "name": "python",
   "nbconvert_exporter": "python",
   "pygments_lexer": "ipython3",
   "version": "3.12.4"
  }
 },
 "nbformat": 4,
 "nbformat_minor": 2
}

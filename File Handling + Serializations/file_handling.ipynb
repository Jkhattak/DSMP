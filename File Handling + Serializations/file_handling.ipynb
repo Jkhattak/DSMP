{
 "cells": [
  {
   "cell_type": "markdown",
   "metadata": {},
   "source": [
    "# File handling "
   ]
  },
  {
   "cell_type": "code",
   "execution_count": 6,
   "metadata": {},
   "outputs": [],
   "source": [
    "# case 1  -if the file is not present \n",
    "\n",
    "f = open('sample.txt','w')"
   ]
  },
  {
   "cell_type": "code",
   "execution_count": 9,
   "metadata": {},
   "outputs": [
    {
     "ename": "ValueError",
     "evalue": "I/O operation on closed file.",
     "output_type": "error",
     "traceback": [
      "\u001b[1;31m---------------------------------------------------------------------------\u001b[0m",
      "\u001b[1;31mValueError\u001b[0m                                Traceback (most recent call last)",
      "Cell \u001b[1;32mIn[9], line 1\u001b[0m\n\u001b[1;32m----> 1\u001b[0m f\u001b[38;5;241m.\u001b[39mwrite(\u001b[38;5;124m'\u001b[39m\u001b[38;5;124mHello world\u001b[39m\u001b[38;5;124m'\u001b[39m)\n\u001b[0;32m      2\u001b[0m f\u001b[38;5;241m.\u001b[39mclose()\n\u001b[0;32m      3\u001b[0m f\u001b[38;5;241m.\u001b[39mwrite(\u001b[38;5;124m'\u001b[39m\u001b[38;5;124mhi\u001b[39m\u001b[38;5;124m'\u001b[39m)\n",
      "\u001b[1;31mValueError\u001b[0m: I/O operation on closed file."
     ]
    }
   ],
   "source": [
    "f.write('Hello world')\n",
    "f.close()"
   ]
  },
  {
   "cell_type": "code",
   "execution_count": 12,
   "metadata": {},
   "outputs": [],
   "source": [
    "# Write multiple lines \n",
    "\n",
    "with open('sample1.txt','w') as file:\n",
    "    file.write('This is first line\\n')\n",
    "    file.write('This is second line')\n",
    "    file.close()\n"
   ]
  },
  {
   "cell_type": "code",
   "execution_count": 13,
   "metadata": {},
   "outputs": [],
   "source": [
    "# Writing to an existing file without replace anything \n",
    "\n",
    "f = open('sample.txt', 'a')\n",
    "f.write(\"\\nI am fine\\n\")\n",
    "f.write('This is closing line\\n')\n",
    "f.close()"
   ]
  },
  {
   "cell_type": "code",
   "execution_count": 17,
   "metadata": {},
   "outputs": [],
   "source": [
    "# write lines\n",
    "\n",
    "l = ['hello world\\n', 'This is Batman\\n','This is a test\\n']\n",
    "\n",
    "with open('linetest.txt', 'w') as file:\n",
    "    file.writelines(l)\n",
    "    file.close()"
   ]
  },
  {
   "cell_type": "code",
   "execution_count": 3,
   "metadata": {},
   "outputs": [
    {
     "name": "stdout",
     "output_type": "stream",
     "text": [
      "Hello worl\n",
      "10\n",
      "Hello worl\n",
      "10\n"
     ]
    }
   ],
   "source": [
    "with open('sample.txt', 'r') as f:\n",
    "    print(f.read(10))\n",
    "    print(f.tell())\n",
    "    f.seek(0)\n",
    "    print(f.read(10))\n",
    "    print(f.tell())"
   ]
  },
  {
   "cell_type": "markdown",
   "metadata": {},
   "source": [
    "# Binary Files  "
   ]
  },
  {
   "cell_type": "code",
   "execution_count": null,
   "metadata": {},
   "outputs": [],
   "source": [
    "with open('Capture.PNG', 'rb') as f: #READ BINARY\n",
    "    with open('screenshot_copy.jpg', 'wb') as wf: #WRITE BINARY\n",
    "        wf.write(f.read()) #WRITE BACK TO COPY\n"
   ]
  },
  {
   "cell_type": "code",
   "execution_count": null,
   "metadata": {},
   "outputs": [],
   "source": [
    "with open('sample.txt', 'w') as f:\n",
    "    f.write('5')"
   ]
  },
  {
   "cell_type": "markdown",
   "metadata": {},
   "source": [
    "# Serialization "
   ]
  },
  {
   "cell_type": "code",
   "execution_count": 5,
   "metadata": {},
   "outputs": [],
   "source": [
    "import json \n",
    "\n",
    "l = [1,2,3,4]\n",
    "\n",
    "with open('demo.json', 'w') as f:\n",
    "    json.dump(l,f)"
   ]
  },
  {
   "cell_type": "code",
   "execution_count": 6,
   "metadata": {},
   "outputs": [],
   "source": [
    "d = {\n",
    "    'name' : 'Batman', \n",
    "    'age': 45,\n",
    "    'gender': 'male'\n",
    "}"
   ]
  },
  {
   "cell_type": "code",
   "execution_count": 8,
   "metadata": {},
   "outputs": [],
   "source": [
    "with open('sample.json', 'w') as f:\n",
    "    json.dump(d, f, indent=5)"
   ]
  },
  {
   "cell_type": "markdown",
   "metadata": {},
   "source": [
    "# Deserilization"
   ]
  },
  {
   "cell_type": "code",
   "execution_count": 11,
   "metadata": {},
   "outputs": [
    {
     "name": "stdout",
     "output_type": "stream",
     "text": [
      "{'name': 'Batman', 'age': 45, 'gender': 'male'}\n"
     ]
    }
   ],
   "source": [
    "with open('sample.json', 'r') as f:\n",
    "    print(json.load(f))\n",
    "    "
   ]
  },
  {
   "cell_type": "code",
   "execution_count": 12,
   "metadata": {},
   "outputs": [],
   "source": [
    "# serilization and deserialize tuple\n",
    "t = (1,2,3,4,5,6)\n",
    "\n",
    "with open('sample.json', 'w') as files:\n",
    "    json.dump(t, files)"
   ]
  },
  {
   "cell_type": "code",
   "execution_count": 13,
   "metadata": {},
   "outputs": [
    {
     "name": "stdout",
     "output_type": "stream",
     "text": [
      "[1, 2, 3, 4, 5, 6]\n"
     ]
    }
   ],
   "source": [
    "with open('sample.json', 'r') as f:\n",
    "    print(json.load(f))"
   ]
  },
  {
   "cell_type": "code",
   "execution_count": null,
   "metadata": {},
   "outputs": [],
   "source": []
  }
 ],
 "metadata": {
  "kernelspec": {
   "display_name": "base",
   "language": "python",
   "name": "python3"
  },
  "language_info": {
   "codemirror_mode": {
    "name": "ipython",
    "version": 3
   },
   "file_extension": ".py",
   "mimetype": "text/x-python",
   "name": "python",
   "nbconvert_exporter": "python",
   "pygments_lexer": "ipython3",
   "version": "3.12.4"
  }
 },
 "nbformat": 4,
 "nbformat_minor": 2
}
